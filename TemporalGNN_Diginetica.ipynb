{
  "nbformat": 4,
  "nbformat_minor": 0,
  "metadata": {
    "colab": {
      "provenance": [],
      "gpuType": "T4"
    },
    "kernelspec": {
      "name": "python3",
      "display_name": "Python 3"
    },
    "language_info": {
      "name": "python"
    },
    "accelerator": "GPU"
  },
  "cells": [
    {
      "cell_type": "code",
      "source": [
        "import pandas as pd\n",
        "\n",
        "# Load the data\n",
        "data = pd.read_csv('data1.csv')\n",
        "print(data.head())\n",
        "\n",
        "\n",
        "# Check for missing values\n",
        "print('Null values in data:')\n",
        "print(data.isnull().sum())\n",
        "\n",
        "# Fix the missing or erroneous 'eventdate' entries\n",
        "data['eventdate'] = pd.to_datetime(data['eventdate'], errors='coerce')\n",
        "data.dropna(subset=['eventdate'], inplace=True)\n"
      ],
      "metadata": {
        "colab": {
          "base_uri": "https://localhost:8080/"
        },
        "id": "VfTl3moFemy5",
        "outputId": "a660a845-6335-4d5a-f20c-2bce2648f98b"
      },
      "execution_count": 1,
      "outputs": [
        {
          "output_type": "stream",
          "name": "stdout",
          "text": [
            "   session_id  user_id  item_id  timeframe eventdate\n",
            "0           1      NaN    81766     526309  9/5/2016\n",
            "1           1      NaN    31331    1031018  9/5/2016\n",
            "2           1      NaN    32118     243569  9/5/2016\n",
            "3           1      NaN     9654      75848  9/5/2016\n",
            "4           1      NaN    32627    1112408  9/5/2016\n",
            "Null values in data:\n",
            "session_id         0\n",
            "user_id       728619\n",
            "item_id            0\n",
            "timeframe          0\n",
            "eventdate          0\n",
            "dtype: int64\n"
          ]
        }
      ]
    },
    {
      "cell_type": "code",
      "source": [
        "import pandas as pd\n",
        "\n",
        "#Load the data\n",
        "data = pd.read_csv('data1.csv')\n",
        "\n",
        "# Remove the 'user_id' column since we are not using it\n",
        "data.drop(columns=['user_id'], inplace=True)\n",
        "\n",
        "# convert 'eventdate' to datetime format\n",
        "data['eventdate'] = pd.to_datetime(data['eventdate'], errors='coerce')\n",
        "\n",
        "#chdck dataframe structure\n",
        "print(data.info())\n"
      ],
      "metadata": {
        "colab": {
          "base_uri": "https://localhost:8080/"
        },
        "id": "ZPsZzPqzfbxX",
        "outputId": "781f1b32-6b6d-4549-bb1c-7f6123402a76"
      },
      "execution_count": 2,
      "outputs": [
        {
          "output_type": "stream",
          "name": "stdout",
          "text": [
            "<class 'pandas.core.frame.DataFrame'>\n",
            "RangeIndex: 1048575 entries, 0 to 1048574\n",
            "Data columns (total 4 columns):\n",
            " #   Column      Non-Null Count    Dtype         \n",
            "---  ------      --------------    -----         \n",
            " 0   session_id  1048575 non-null  int64         \n",
            " 1   item_id     1048575 non-null  int64         \n",
            " 2   timeframe   1048575 non-null  int64         \n",
            " 3   eventdate   428014 non-null   datetime64[ns]\n",
            "dtypes: datetime64[ns](1), int64(3)\n",
            "memory usage: 32.0 MB\n",
            "None\n"
          ]
        }
      ]
    },
    {
      "cell_type": "code",
      "source": [
        "print(\"\\nDataset characteristics:\")\n",
        "print(\"Total number of interactions:\", len(data))\n",
        "print(\"Total number of sessions:\", data['session_id'].nunique())\n",
        "print(\"Total number of items:\", data['item_id'].nunique())\n",
        "print(\"Total number of users:\", data['session_id'].nunique())\n",
        "\n",
        "# Interactions per session\n",
        "interactions_per_session = data.groupby('session_id').size()\n",
        "print(\"\\nInteractions per session:\")\n",
        "print(interactions_per_session.describe())\n"
      ],
      "metadata": {
        "colab": {
          "base_uri": "https://localhost:8080/"
        },
        "id": "ttAoRG18fnFM",
        "outputId": "fc768082-9ced-4fde-9a1b-6b8936d7051c"
      },
      "execution_count": 3,
      "outputs": [
        {
          "output_type": "stream",
          "name": "stdout",
          "text": [
            "\n",
            "Dataset characteristics:\n",
            "Total number of interactions: 1048575\n",
            "Total number of sessions: 247360\n",
            "Total number of items: 114887\n",
            "Total number of users: 247360\n",
            "\n",
            "Interactions per session:\n",
            "count    247360.000000\n",
            "mean          4.239065\n",
            "std           4.091270\n",
            "min           1.000000\n",
            "25%           1.000000\n",
            "50%           3.000000\n",
            "75%           6.000000\n",
            "max          81.000000\n",
            "dtype: float64\n"
          ]
        }
      ]
    },
    {
      "cell_type": "code",
      "source": [
        "# Average session length\n",
        "average_session_length = interactions_per_session.mean()\n",
        "print(\"\\nAverage session length:\", average_session_length)\n",
        "\n",
        "# Sessions per item\n",
        "sessions_per_item = data.groupby('item_id').size()\n",
        "print(\"\\nSessions per item:\")\n",
        "print(sessions_per_item.describe())\n",
        "\n"
      ],
      "metadata": {
        "colab": {
          "base_uri": "https://localhost:8080/"
        },
        "id": "oSK_z5xLf7XR",
        "outputId": "89f3c6a8-db52-48b8-f765-22a9fa3e06fd"
      },
      "execution_count": 4,
      "outputs": [
        {
          "output_type": "stream",
          "name": "stdout",
          "text": [
            "\n",
            "Average session length: 4.239064521345408\n",
            "\n",
            "Sessions per item:\n",
            "count    114887.000000\n",
            "mean          9.127012\n",
            "std          24.726839\n",
            "min           1.000000\n",
            "25%           1.000000\n",
            "50%           2.000000\n",
            "75%           7.000000\n",
            "max        1064.000000\n",
            "dtype: float64\n"
          ]
        }
      ]
    },
    {
      "cell_type": "code",
      "source": [
        "import matplotlib.pyplot as plt\n",
        "\n",
        "plt.figure(figsize=(10, 6))\n",
        "plt.hist(interactions_per_session, bins=50, color='skyblue', edgecolor='black', alpha=0.7)\n",
        "plt.xlabel('Number of Interactions')\n",
        "plt.ylabel('Frequency')\n",
        "plt.grid(True)\n",
        "plt.show()\n"
      ],
      "metadata": {
        "colab": {
          "base_uri": "https://localhost:8080/",
          "height": 530
        },
        "id": "QuNmpDjMf-8I",
        "outputId": "716c3531-9422-4e61-d44b-1fd2ee54e956"
      },
      "execution_count": 5,
      "outputs": [
        {
          "output_type": "display_data",
          "data": {
            "text/plain": [
              "<Figure size 1000x600 with 1 Axes>"
            ],
            "image/png": "[encoded data removed]"
          },
          "metadata": {}
        }
      ]
    },
    {
      "cell_type": "code",
      "source": [
        "\n",
        "# Calculate session lengths\n",
        "session_lengths = data.groupby('session_id').size()\n",
        "\n",
        "# Print min and max session lengths\n",
        "min_length = session_lengths.min()\n",
        "max_length = session_lengths.max()\n",
        "print(f\"Minimum session length: {min_length}\")\n",
        "print(f\"Maximum session length: {max_length}\")\n",
        "\n",
        "# Plot the session length distribution with log scale on y-axis\n",
        "plt.figure(figsize=(10, 6))\n",
        "plt.hist(session_lengths, bins=range(min_length, max_length + 2), edgecolor='black', align='left')\n",
        "plt.yscale('log')\n",
        "plt.xlabel('Number of Items in Session')\n",
        "plt.ylabel('Frequency (log scale)')\n",
        "plt.xticks(range(min_length, max_length + 1))\n",
        "plt.grid(True)\n",
        "plt.show()\n"
      ],
      "metadata": {
        "colab": {
          "base_uri": "https://localhost:8080/",
          "height": 579
        },
        "id": "BE78ygwrgBZh",
        "outputId": "3fc34342-afc9-47fe-bdba-c2d30275bbcd"
      },
      "execution_count": 6,
      "outputs": [
        {
          "output_type": "stream",
          "name": "stdout",
          "text": [
            "Minimum session length: 1\n",
            "Maximum session length: 81\n"
          ]
        },
        {
          "output_type": "display_data",
          "data": {
            "text/plain": [
              "<Figure size 1000x600 with 1 Axes>"
            ],
            "image/png": "[encoded data removed]"
          },
          "metadata": {}
        }
      ]
    },
    {
      "cell_type": "code",
      "source": [
        "# Preprocess the data\n",
        "def preprocess_data(data):\n",
        "    data['timestamp'] = pd.to_datetime(data['eventdate'] + ' ' + data['timeframe'].astype(str), errors='coerce')\n",
        "    data = data.drop(columns=['eventdate', 'timeframe'])\n",
        "    data = data.dropna(subset=['timestamp'])\n",
        "    return data\n",
        "\n",
        "# Load the data\n",
        "data = pd.read_csv('data1.csv')\n",
        "\n",
        "# Remove the 'user_id' column\n",
        "data.drop(columns=['user_id'], inplace=True)\n",
        "\n",
        "# Preprocess the data\n",
        "preprocessed_data = preprocess_data(data)\n",
        "\n",
        "# Print the preprocessed data\n",
        "print(preprocessed_data)"
      ],
      "metadata": {
        "colab": {
          "base_uri": "https://localhost:8080/"
        },
        "id": "0ojFbwwagF8h",
        "outputId": "18bf6f71-2c55-4bc3-9926-d2f2b2197eed"
      },
      "execution_count": 7,
      "outputs": [
        {
          "output_type": "stream",
          "name": "stderr",
          "text": [
            "<ipython-input-7-97eaeed4cf86>:3: UserWarning: Could not infer format, so each element will be parsed individually, falling back to `dateutil`. To ensure parsing is consistent and as-expected, please specify a format.\n",
            "  data['timestamp'] = pd.to_datetime(data['eventdate'] + ' ' + data['timeframe'].astype(str), errors='coerce')\n"
          ]
        },
        {
          "output_type": "stream",
          "name": "stdout",
          "text": [
            "         session_id  item_id           timestamp\n",
            "5                 1    33043 2016-09-05 17:39:12\n",
            "13                2    32971 2016-09-05 18:27:59\n",
            "22                5    35472 2016-09-05 12:10:36\n",
            "41               13     3680 2016-05-04 14:48:50\n",
            "51               15    58223 2016-05-04 10:44:26\n",
            "...             ...      ...                 ...\n",
            "1048540      436656    12720 2016-03-27 22:56:34\n",
            "1048544      436662   389738 2016-05-13 20:46:12\n",
            "1048547      436663    13323 2016-03-03 21:43:23\n",
            "1048551      436667   199007 2016-04-26 23:13:27\n",
            "1048559      436686    89764 2016-04-24 12:18:05\n",
            "\n",
            "[77250 rows x 3 columns]\n"
          ]
        }
      ]
    },
    {
      "cell_type": "code",
      "source": [
        "import pandas as pd\n",
        "import networkx as nx\n",
        "import matplotlib.pyplot as plt\n",
        "import torch\n",
        "import torch.nn as nn\n",
        "import torch.nn.functional as F\n",
        "from sklearn.model_selection import train_test_split\n",
        "\n",
        "#preprocessing for timestamp column\n",
        "def preprocess_data(data):\n",
        "    data['timestamp'] = pd.to_datetime(data['eventdate'] + ' ' + data['timeframe'].astype(str), errors='coerce')\n",
        "    data = data.drop(columns=['eventdate', 'timeframe'])\n",
        "    data = data.dropna(subset=['timestamp'])\n",
        "    return data\n",
        "\n",
        "def construct_graph(data):\n",
        "    unique_items = data['item_id'].unique().tolist()\n",
        "    item_to_node = {item: i for i, item in enumerate(unique_items)}\n",
        "\n",
        "    g = nx.DiGraph()\n",
        "    for _, session_group in data.groupby('session_id'):\n",
        "        session_items = session_group['item_id'].unique()\n",
        "        session_node_ids = [item_to_node[item_id] for item_id in session_items]\n",
        "        for i in range(len(session_node_ids) - 1):\n",
        "            src = session_node_ids[i]\n",
        "            dst = session_node_ids[i + 1]\n",
        "            time_diff = (session_group.iloc[i + 1]['timestamp'] - session_group.iloc[i]['timestamp']).total_seconds()\n",
        "            g.add_edge(src, dst, time_diff=time_diff)\n",
        "\n",
        "    return g, item_to_node\n",
        "\n",
        "def print_graph_info(g):\n",
        "    print(\"Graph Structure:\")\n",
        "    print(\"Number of nodes:\", g.number_of_nodes())\n",
        "    print(\"Number of edges:\", g.number_of_edges())\n",
        "\n",
        "\n",
        "    nx.draw(g, with_labels=True)\n",
        "    plt.show()\n",
        "\n",
        "class TemporalGNNLayer(nn.Module):\n",
        "    def __init__(self, in_feats, out_feats, use_attention=True):\n",
        "        super(TemporalGNNLayer, self).__init__()\n",
        "        self.use_attention = use_attention\n",
        "        self.fc = nn.Linear(in_feats, out_feats)\n",
        "        if use_attention:\n",
        "            self.attn_fc = nn.Linear(2 * out_feats, 1)\n",
        "\n",
        "    def edge_attention(self, z_src, z_dst):\n",
        "        z2 = torch.cat([z_src, z_dst], dim=1)\n",
        "        a = self.attn_fc(z2)\n",
        "        return F.leaky_relu(a)\n",
        "\n",
        "    def forward(self, g, features):\n",
        "        z = self.fc(features)\n",
        "        new_features = torch.zeros_like(z)\n",
        "        for node in g.nodes:\n",
        "            neighbors = list(g.neighbors(node))\n",
        "            if not neighbors:\n",
        "                new_features[node] = z[node]\n",
        "                continue\n",
        "            neighbor_feats = z[neighbors]\n",
        "            node_feat = z[node].unsqueeze(0).repeat(len(neighbors), 1)\n",
        "            if self.use_attention:\n",
        "                e = self.edge_attention(node_feat, neighbor_feats).squeeze()\n",
        "                alpha = F.softmax(e, dim=0)\n",
        "                if alpha.dim() == 1:\n",
        "                    alpha = alpha.unsqueeze(1)\n",
        "                new_features[node] = torch.sum(alpha * neighbor_feats, dim=0)\n",
        "            else:\n",
        "                new_features[node] = torch.mean(neighbor_feats, dim=0)\n",
        "        return new_features\n",
        "\n",
        "class TemporalGNN(nn.Module):\n",
        "    def __init__(self, in_feats, hidden_feats, out_feats, num_heads=4):\n",
        "        super(TemporalGNN, self).__init__()\n",
        "        self.layer1 = TemporalGNNLayer(in_feats, hidden_feats, use_attention=True)\n",
        "        self.layer2 = TemporalGNNLayer(hidden_feats, out_feats, use_attention=False)\n",
        "\n",
        "    def forward(self, g, node_feats):\n",
        "        h = self.layer1(g, node_feats)\n",
        "        h = F.elu(h)\n",
        "        h = self.layer2(g, h)\n",
        "        return h\n",
        "\n",
        "def train_model(model, optimizer, g, node_feats, session_data, item_to_node):\n",
        "    model.train()\n",
        "    optimizer.zero_grad()\n",
        "    output = model(g, node_feats)\n",
        "    loss = 0\n",
        "    for _, session_group in session_data.groupby('session_id'):\n",
        "        session_items = session_group['item_id'].unique()\n",
        "        session_node_ids = [item_to_node[item_id] for item_id in session_items if item_id in item_to_node]\n",
        "        session_node_feats = output[session_node_ids]\n",
        "        pos_scores = torch.matmul(session_node_feats, session_node_feats.T).diagonal()\n",
        "        neg_session_group = session_data[~session_data['session_id'].isin([session_group['session_id'].iloc[0]])]\n",
        "        neg_session_items = neg_session_group['item_id'].unique()\n",
        "        neg_session_node_ids = [item_to_node[item_id] for item_id in neg_session_items if item_id in item_to_node]\n",
        "        neg_session_node_feats = output[neg_session_node_ids]\n",
        "        neg_scores = torch.matmul(session_node_feats, neg_session_node_feats.T).diagonal()\n",
        "        loss += F.relu(1 - (pos_scores - neg_scores)).mean()\n",
        "    loss.backward()\n",
        "    optimizer.step()\n",
        "    return loss.item(), output\n",
        "\n",
        "def recommend_items_for_session(session_id, session_data, top_n=5, output=None, item_to_node=None):\n",
        "    session_items = session_data[session_data['session_id'] == session_id]['item_id'].unique()\n",
        "    session_node_ids = [item_to_node[item_id] for item_id in session_items if item_id in item_to_node]\n",
        "    session_node_feats = output[session_node_ids]\n",
        "    similarity_scores = torch.matmul(session_node_feats, session_node_feats.T)\n",
        "    similarity_scores = similarity_scores - torch.eye(similarity_scores.shape[0])\n",
        "    top_indices = torch.topk(similarity_scores.mean(dim=0), min(top_n, similarity_scores.shape[0])).indices.tolist()\n",
        "    recommended_items = [session_items[idx] for idx in top_indices]\n",
        "    return recommended_items\n",
        "\n",
        "def evaluate_performance(session_ids, true_items, session_data, k=5, output=None, item_to_node=None):\n",
        "    mrr = 0\n",
        "    recall = 0\n",
        "    for session_id, true_item in zip(session_ids, true_items):\n",
        "        recommended_items = recommend_items_for_session(session_id, session_data, top_n=k, output=output, item_to_node=item_to_node)\n",
        "\n",
        "        if true_item in recommended_items:\n",
        "            rank = recommended_items.index(true_item) + 1\n",
        "            mrr += 1 / rank\n",
        "            recall += 1\n",
        "    mrr /= len(session_ids)\n",
        "    recall /= len(session_ids)\n",
        "    return mrr, recall\n",
        "\n",
        "\n",
        "\n",
        "#Read data from Diginetica dataset\n",
        "data = pd.read_csv('data1.csv')\n",
        "data = preprocess_data(data)\n",
        "\n",
        "# Split data into train and test sets\n",
        "#sample data because dataset is huge\n",
        "sampled_data = data.sample(n=10000, random_state=42)\n",
        "\n",
        "#split sampled data into train and test sets\n",
        "train_data, test_data = train_test_split(sampled_data, test_size=0.2, random_state=42)\n",
        "\n",
        "\n",
        "#construct graph from training data\n",
        "g, item_to_node = construct_graph(train_data)\n",
        "\n",
        "#print_graph_info(g)\n",
        "\n",
        "# Define model and optimizer\n",
        "model = TemporalGNN(in_feats=len(item_to_node), hidden_feats=64, out_feats=32)  #chosen hyperparameters after experimenting\n",
        "optimizer = torch.optim.Adam(model.parameters(), lr=0.001)  # chosen after experimenting with other values\n",
        "\n",
        "#training loop\n",
        "num_epochs = 10\n",
        "for epoch in range(num_epochs):\n",
        "    loss, output = train_model(model, optimizer, g, torch.eye(len(item_to_node)), train_data, item_to_node)\n",
        "    print(f\"Epoch [{epoch+1}/{num_epochs}], Loss: {loss:.4f}\")\n",
        "\n",
        "#evaluation on test set\n",
        "session_ids_test = test_data['session_id'].unique()\n",
        "true_items_test = [test_data[test_data['session_id'] == session_id]['item_id'].iloc[-1] for session_id in session_ids_test]\n",
        "\n",
        "mrr, recall = evaluate_performance(session_ids_test, true_items_test, test_data, output=output, item_to_node=item_to_node)\n",
        "\n",
        "print(\"Final Evaluation on Test Set\")\n",
        "print(\"Mean Reciprocal Rank (MRR@5):\", mrr)\n",
        "print(\"Recall@5:\", recall)\n",
        "\n"
      ],
      "metadata": {
        "colab": {
          "base_uri": "https://localhost:8080/"
        },
        "id": "p88UZe3-1j2_",
        "outputId": "ae40437c-db9c-417d-ab36-4cc757ff0c1f"
      },
      "execution_count": null,
      "outputs": [
        {
          "output_type": "stream",
          "name": "stderr",
          "text": [
            "<ipython-input-9-9307a57a088b>:11: UserWarning: Could not infer format, so each element will be parsed individually, falling back to `dateutil`. To ensure parsing is consistent and as-expected, please specify a format.\n",
            "  data['timestamp'] = pd.to_datetime(data['eventdate'] + ' ' + data['timeframe'].astype(str), errors='coerce')\n"
          ]
        },
        {
          "output_type": "stream",
          "name": "stdout",
          "text": [
            "Epoch [1/10], Loss: 7763.7456\n",
            "Epoch [2/10], Loss: 7760.0601\n",
            "Epoch [3/10], Loss: 7756.1948\n",
            "Epoch [4/10], Loss: 7752.1021\n",
            "Epoch [5/10], Loss: 7747.6997\n",
            "Epoch [6/10], Loss: 7742.9351\n",
            "Epoch [7/10], Loss: 7737.7075\n",
            "Epoch [8/10], Loss: 7731.9204\n",
            "Epoch [9/10], Loss: 7725.4868\n",
            "Epoch [10/10], Loss: 7718.3008\n",
            "Final Evaluation on Test Set\n",
            "Mean Reciprocal Rank (MRR@5): 0.2996480643539467\n",
            "Recall@5: 0.30015082956259426\n"
          ]
        }
      ]
    }
  ]
}